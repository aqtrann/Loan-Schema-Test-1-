{
 "cells": [
  {
   "cell_type": "code",
   "execution_count": 2,
   "id": "df80632e",
   "metadata": {},
   "outputs": [],
   "source": [
    "import pandas as pd\n",
    "import numpy as np"
   ]
  },
  {
   "cell_type": "code",
   "execution_count": 5,
   "id": "a9cd263a",
   "metadata": {},
   "outputs": [],
   "source": [
    "df = pd.read_csv('Downloads/loans_full_schema.csv')"
   ]
  },
  {
   "cell_type": "code",
   "execution_count": 6,
   "id": "3564a158",
   "metadata": {},
   "outputs": [
    {
     "data": {
      "text/html": [
       "<div>\n",
       "<style scoped>\n",
       "    .dataframe tbody tr th:only-of-type {\n",
       "        vertical-align: middle;\n",
       "    }\n",
       "\n",
       "    .dataframe tbody tr th {\n",
       "        vertical-align: top;\n",
       "    }\n",
       "\n",
       "    .dataframe thead th {\n",
       "        text-align: right;\n",
       "    }\n",
       "</style>\n",
       "<table border=\"1\" class=\"dataframe\">\n",
       "  <thead>\n",
       "    <tr style=\"text-align: right;\">\n",
       "      <th></th>\n",
       "      <th>emp_title</th>\n",
       "      <th>emp_length</th>\n",
       "      <th>state</th>\n",
       "      <th>homeownership</th>\n",
       "      <th>annual_income</th>\n",
       "      <th>verified_income</th>\n",
       "      <th>debt_to_income</th>\n",
       "      <th>annual_income_joint</th>\n",
       "      <th>verification_income_joint</th>\n",
       "      <th>debt_to_income_joint</th>\n",
       "      <th>...</th>\n",
       "      <th>sub_grade</th>\n",
       "      <th>issue_month</th>\n",
       "      <th>loan_status</th>\n",
       "      <th>initial_listing_status</th>\n",
       "      <th>disbursement_method</th>\n",
       "      <th>balance</th>\n",
       "      <th>paid_total</th>\n",
       "      <th>paid_principal</th>\n",
       "      <th>paid_interest</th>\n",
       "      <th>paid_late_fees</th>\n",
       "    </tr>\n",
       "  </thead>\n",
       "  <tbody>\n",
       "    <tr>\n",
       "      <th>0</th>\n",
       "      <td>global config engineer</td>\n",
       "      <td>3.0</td>\n",
       "      <td>NJ</td>\n",
       "      <td>MORTGAGE</td>\n",
       "      <td>90000.0</td>\n",
       "      <td>Verified</td>\n",
       "      <td>18.01</td>\n",
       "      <td>NaN</td>\n",
       "      <td>NaN</td>\n",
       "      <td>NaN</td>\n",
       "      <td>...</td>\n",
       "      <td>C3</td>\n",
       "      <td>Mar-2018</td>\n",
       "      <td>Current</td>\n",
       "      <td>whole</td>\n",
       "      <td>Cash</td>\n",
       "      <td>27015.86</td>\n",
       "      <td>1999.33</td>\n",
       "      <td>984.14</td>\n",
       "      <td>1015.19</td>\n",
       "      <td>0.0</td>\n",
       "    </tr>\n",
       "    <tr>\n",
       "      <th>1</th>\n",
       "      <td>warehouse office clerk</td>\n",
       "      <td>10.0</td>\n",
       "      <td>HI</td>\n",
       "      <td>RENT</td>\n",
       "      <td>40000.0</td>\n",
       "      <td>Not Verified</td>\n",
       "      <td>5.04</td>\n",
       "      <td>NaN</td>\n",
       "      <td>NaN</td>\n",
       "      <td>NaN</td>\n",
       "      <td>...</td>\n",
       "      <td>C1</td>\n",
       "      <td>Feb-2018</td>\n",
       "      <td>Current</td>\n",
       "      <td>whole</td>\n",
       "      <td>Cash</td>\n",
       "      <td>4651.37</td>\n",
       "      <td>499.12</td>\n",
       "      <td>348.63</td>\n",
       "      <td>150.49</td>\n",
       "      <td>0.0</td>\n",
       "    </tr>\n",
       "    <tr>\n",
       "      <th>2</th>\n",
       "      <td>assembly</td>\n",
       "      <td>3.0</td>\n",
       "      <td>WI</td>\n",
       "      <td>RENT</td>\n",
       "      <td>40000.0</td>\n",
       "      <td>Source Verified</td>\n",
       "      <td>21.15</td>\n",
       "      <td>NaN</td>\n",
       "      <td>NaN</td>\n",
       "      <td>NaN</td>\n",
       "      <td>...</td>\n",
       "      <td>D1</td>\n",
       "      <td>Feb-2018</td>\n",
       "      <td>Current</td>\n",
       "      <td>fractional</td>\n",
       "      <td>Cash</td>\n",
       "      <td>1824.63</td>\n",
       "      <td>281.80</td>\n",
       "      <td>175.37</td>\n",
       "      <td>106.43</td>\n",
       "      <td>0.0</td>\n",
       "    </tr>\n",
       "  </tbody>\n",
       "</table>\n",
       "<p>3 rows × 55 columns</p>\n",
       "</div>"
      ],
      "text/plain": [
       "                 emp_title  emp_length state homeownership  annual_income  \\\n",
       "0  global config engineer          3.0    NJ      MORTGAGE        90000.0   \n",
       "1   warehouse office clerk        10.0    HI          RENT        40000.0   \n",
       "2                 assembly         3.0    WI          RENT        40000.0   \n",
       "\n",
       "   verified_income  debt_to_income  annual_income_joint  \\\n",
       "0         Verified           18.01                  NaN   \n",
       "1     Not Verified            5.04                  NaN   \n",
       "2  Source Verified           21.15                  NaN   \n",
       "\n",
       "  verification_income_joint  debt_to_income_joint  ...  sub_grade  \\\n",
       "0                       NaN                   NaN  ...         C3   \n",
       "1                       NaN                   NaN  ...         C1   \n",
       "2                       NaN                   NaN  ...         D1   \n",
       "\n",
       "   issue_month  loan_status  initial_listing_status  disbursement_method  \\\n",
       "0     Mar-2018      Current                   whole                 Cash   \n",
       "1     Feb-2018      Current                   whole                 Cash   \n",
       "2     Feb-2018      Current              fractional                 Cash   \n",
       "\n",
       "    balance  paid_total  paid_principal  paid_interest  paid_late_fees  \n",
       "0  27015.86     1999.33          984.14        1015.19             0.0  \n",
       "1   4651.37      499.12          348.63         150.49             0.0  \n",
       "2   1824.63      281.80          175.37         106.43             0.0  \n",
       "\n",
       "[3 rows x 55 columns]"
      ]
     },
     "execution_count": 6,
     "metadata": {},
     "output_type": "execute_result"
    }
   ],
   "source": [
    "df.head(3)"
   ]
  },
  {
   "cell_type": "markdown",
   "id": "e6700f93",
   "metadata": {},
   "source": [
    "# Cleaning"
   ]
  },
  {
   "cell_type": "code",
   "execution_count": 8,
   "id": "68edd200",
   "metadata": {},
   "outputs": [
    {
     "data": {
      "text/plain": [
       "(10000, 55)"
      ]
     },
     "execution_count": 8,
     "metadata": {},
     "output_type": "execute_result"
    }
   ],
   "source": [
    "df.shape"
   ]
  },
  {
   "cell_type": "code",
   "execution_count": 9,
   "id": "8f2408fc",
   "metadata": {},
   "outputs": [
    {
     "name": "stdout",
     "output_type": "stream",
     "text": [
      "<class 'pandas.core.frame.DataFrame'>\n",
      "RangeIndex: 10000 entries, 0 to 9999\n",
      "Data columns (total 55 columns):\n",
      " #   Column                            Non-Null Count  Dtype  \n",
      "---  ------                            --------------  -----  \n",
      " 0   emp_title                         9167 non-null   object \n",
      " 1   emp_length                        9183 non-null   float64\n",
      " 2   state                             10000 non-null  object \n",
      " 3   homeownership                     10000 non-null  object \n",
      " 4   annual_income                     10000 non-null  float64\n",
      " 5   verified_income                   10000 non-null  object \n",
      " 6   debt_to_income                    9976 non-null   float64\n",
      " 7   annual_income_joint               1495 non-null   float64\n",
      " 8   verification_income_joint         1455 non-null   object \n",
      " 9   debt_to_income_joint              1495 non-null   float64\n",
      " 10  delinq_2y                         10000 non-null  int64  \n",
      " 11  months_since_last_delinq          4342 non-null   float64\n",
      " 12  earliest_credit_line              10000 non-null  int64  \n",
      " 13  inquiries_last_12m                10000 non-null  int64  \n",
      " 14  total_credit_lines                10000 non-null  int64  \n",
      " 15  open_credit_lines                 10000 non-null  int64  \n",
      " 16  total_credit_limit                10000 non-null  int64  \n",
      " 17  total_credit_utilized             10000 non-null  int64  \n",
      " 18  num_collections_last_12m          10000 non-null  int64  \n",
      " 19  num_historical_failed_to_pay      10000 non-null  int64  \n",
      " 20  months_since_90d_late             2285 non-null   float64\n",
      " 21  current_accounts_delinq           10000 non-null  int64  \n",
      " 22  total_collection_amount_ever      10000 non-null  int64  \n",
      " 23  current_installment_accounts      10000 non-null  int64  \n",
      " 24  accounts_opened_24m               10000 non-null  int64  \n",
      " 25  months_since_last_credit_inquiry  8729 non-null   float64\n",
      " 26  num_satisfactory_accounts         10000 non-null  int64  \n",
      " 27  num_accounts_120d_past_due        9682 non-null   float64\n",
      " 28  num_accounts_30d_past_due         10000 non-null  int64  \n",
      " 29  num_active_debit_accounts         10000 non-null  int64  \n",
      " 30  total_debit_limit                 10000 non-null  int64  \n",
      " 31  num_total_cc_accounts             10000 non-null  int64  \n",
      " 32  num_open_cc_accounts              10000 non-null  int64  \n",
      " 33  num_cc_carrying_balance           10000 non-null  int64  \n",
      " 34  num_mort_accounts                 10000 non-null  int64  \n",
      " 35  account_never_delinq_percent      10000 non-null  float64\n",
      " 36  tax_liens                         10000 non-null  int64  \n",
      " 37  public_record_bankrupt            10000 non-null  int64  \n",
      " 38  loan_purpose                      10000 non-null  object \n",
      " 39  application_type                  10000 non-null  object \n",
      " 40  loan_amount                       10000 non-null  int64  \n",
      " 41  term                              10000 non-null  int64  \n",
      " 42  interest_rate                     10000 non-null  float64\n",
      " 43  installment                       10000 non-null  float64\n",
      " 44  grade                             10000 non-null  object \n",
      " 45  sub_grade                         10000 non-null  object \n",
      " 46  issue_month                       10000 non-null  object \n",
      " 47  loan_status                       10000 non-null  object \n",
      " 48  initial_listing_status            10000 non-null  object \n",
      " 49  disbursement_method               10000 non-null  object \n",
      " 50  balance                           10000 non-null  float64\n",
      " 51  paid_total                        10000 non-null  float64\n",
      " 52  paid_principal                    10000 non-null  float64\n",
      " 53  paid_interest                     10000 non-null  float64\n",
      " 54  paid_late_fees                    10000 non-null  float64\n",
      "dtypes: float64(17), int64(25), object(13)\n",
      "memory usage: 4.2+ MB\n"
     ]
    }
   ],
   "source": [
    "df.info()"
   ]
  },
  {
   "cell_type": "code",
   "execution_count": 10,
   "id": "ca67ce3c",
   "metadata": {},
   "outputs": [
    {
     "data": {
      "text/plain": [
       "emp_title                            833\n",
       "emp_length                           817\n",
       "state                                  0\n",
       "homeownership                          0\n",
       "annual_income                          0\n",
       "verified_income                        0\n",
       "debt_to_income                        24\n",
       "annual_income_joint                 8505\n",
       "verification_income_joint           8545\n",
       "debt_to_income_joint                8505\n",
       "delinq_2y                              0\n",
       "months_since_last_delinq            5658\n",
       "earliest_credit_line                   0\n",
       "inquiries_last_12m                     0\n",
       "total_credit_lines                     0\n",
       "open_credit_lines                      0\n",
       "total_credit_limit                     0\n",
       "total_credit_utilized                  0\n",
       "num_collections_last_12m               0\n",
       "num_historical_failed_to_pay           0\n",
       "months_since_90d_late               7715\n",
       "current_accounts_delinq                0\n",
       "total_collection_amount_ever           0\n",
       "current_installment_accounts           0\n",
       "accounts_opened_24m                    0\n",
       "months_since_last_credit_inquiry    1271\n",
       "num_satisfactory_accounts              0\n",
       "num_accounts_120d_past_due           318\n",
       "num_accounts_30d_past_due              0\n",
       "num_active_debit_accounts              0\n",
       "total_debit_limit                      0\n",
       "num_total_cc_accounts                  0\n",
       "num_open_cc_accounts                   0\n",
       "num_cc_carrying_balance                0\n",
       "num_mort_accounts                      0\n",
       "account_never_delinq_percent           0\n",
       "tax_liens                              0\n",
       "public_record_bankrupt                 0\n",
       "loan_purpose                           0\n",
       "application_type                       0\n",
       "loan_amount                            0\n",
       "term                                   0\n",
       "interest_rate                          0\n",
       "installment                            0\n",
       "grade                                  0\n",
       "sub_grade                              0\n",
       "issue_month                            0\n",
       "loan_status                            0\n",
       "initial_listing_status                 0\n",
       "disbursement_method                    0\n",
       "balance                                0\n",
       "paid_total                             0\n",
       "paid_principal                         0\n",
       "paid_interest                          0\n",
       "paid_late_fees                         0\n",
       "dtype: int64"
      ]
     },
     "execution_count": 10,
     "metadata": {},
     "output_type": "execute_result"
    }
   ],
   "source": [
    "df.isnull().sum()"
   ]
  },
  {
   "cell_type": "code",
   "execution_count": null,
   "id": "a48d0d78",
   "metadata": {},
   "outputs": [],
   "source": [
    "df.describe(include=\"all\")"
   ]
  },
  {
   "cell_type": "code",
   "execution_count": 11,
   "id": "ac1a3134",
   "metadata": {},
   "outputs": [
    {
     "data": {
      "text/html": [
       "<div>\n",
       "<style scoped>\n",
       "    .dataframe tbody tr th:only-of-type {\n",
       "        vertical-align: middle;\n",
       "    }\n",
       "\n",
       "    .dataframe tbody tr th {\n",
       "        vertical-align: top;\n",
       "    }\n",
       "\n",
       "    .dataframe thead th {\n",
       "        text-align: right;\n",
       "    }\n",
       "</style>\n",
       "<table border=\"1\" class=\"dataframe\">\n",
       "  <thead>\n",
       "    <tr style=\"text-align: right;\">\n",
       "      <th></th>\n",
       "      <th>emp_length</th>\n",
       "      <th>annual_income</th>\n",
       "      <th>debt_to_income</th>\n",
       "      <th>annual_income_joint</th>\n",
       "      <th>debt_to_income_joint</th>\n",
       "      <th>delinq_2y</th>\n",
       "      <th>months_since_last_delinq</th>\n",
       "      <th>earliest_credit_line</th>\n",
       "      <th>inquiries_last_12m</th>\n",
       "      <th>total_credit_lines</th>\n",
       "      <th>...</th>\n",
       "      <th>public_record_bankrupt</th>\n",
       "      <th>loan_amount</th>\n",
       "      <th>term</th>\n",
       "      <th>interest_rate</th>\n",
       "      <th>installment</th>\n",
       "      <th>balance</th>\n",
       "      <th>paid_total</th>\n",
       "      <th>paid_principal</th>\n",
       "      <th>paid_interest</th>\n",
       "      <th>paid_late_fees</th>\n",
       "    </tr>\n",
       "  </thead>\n",
       "  <tbody>\n",
       "    <tr>\n",
       "      <th>count</th>\n",
       "      <td>9183.000000</td>\n",
       "      <td>1.000000e+04</td>\n",
       "      <td>9976.000000</td>\n",
       "      <td>1.495000e+03</td>\n",
       "      <td>1495.000000</td>\n",
       "      <td>10000.00000</td>\n",
       "      <td>4342.000000</td>\n",
       "      <td>10000.00000</td>\n",
       "      <td>10000.00000</td>\n",
       "      <td>10000.000000</td>\n",
       "      <td>...</td>\n",
       "      <td>10000.000000</td>\n",
       "      <td>10000.000000</td>\n",
       "      <td>10000.000000</td>\n",
       "      <td>10000.000000</td>\n",
       "      <td>10000.000000</td>\n",
       "      <td>10000.000000</td>\n",
       "      <td>10000.000000</td>\n",
       "      <td>10000.000000</td>\n",
       "      <td>10000.000000</td>\n",
       "      <td>10000.000000</td>\n",
       "    </tr>\n",
       "    <tr>\n",
       "      <th>mean</th>\n",
       "      <td>5.930306</td>\n",
       "      <td>7.922215e+04</td>\n",
       "      <td>19.308192</td>\n",
       "      <td>1.279146e+05</td>\n",
       "      <td>19.979304</td>\n",
       "      <td>0.21600</td>\n",
       "      <td>36.760709</td>\n",
       "      <td>2001.29000</td>\n",
       "      <td>1.95820</td>\n",
       "      <td>22.679600</td>\n",
       "      <td>...</td>\n",
       "      <td>0.123800</td>\n",
       "      <td>16361.922500</td>\n",
       "      <td>43.272000</td>\n",
       "      <td>12.427524</td>\n",
       "      <td>476.205323</td>\n",
       "      <td>14458.916610</td>\n",
       "      <td>2494.234773</td>\n",
       "      <td>1894.448466</td>\n",
       "      <td>599.666781</td>\n",
       "      <td>0.119516</td>\n",
       "    </tr>\n",
       "    <tr>\n",
       "      <th>std</th>\n",
       "      <td>3.703734</td>\n",
       "      <td>6.473429e+04</td>\n",
       "      <td>15.004851</td>\n",
       "      <td>7.016838e+04</td>\n",
       "      <td>8.054781</td>\n",
       "      <td>0.68366</td>\n",
       "      <td>21.634939</td>\n",
       "      <td>7.79551</td>\n",
       "      <td>2.38013</td>\n",
       "      <td>11.885439</td>\n",
       "      <td>...</td>\n",
       "      <td>0.337172</td>\n",
       "      <td>10301.956759</td>\n",
       "      <td>11.029877</td>\n",
       "      <td>5.001105</td>\n",
       "      <td>294.851627</td>\n",
       "      <td>9964.561865</td>\n",
       "      <td>3958.230365</td>\n",
       "      <td>3884.407175</td>\n",
       "      <td>517.328062</td>\n",
       "      <td>1.813468</td>\n",
       "    </tr>\n",
       "    <tr>\n",
       "      <th>min</th>\n",
       "      <td>0.000000</td>\n",
       "      <td>0.000000e+00</td>\n",
       "      <td>0.000000</td>\n",
       "      <td>1.920000e+04</td>\n",
       "      <td>0.320000</td>\n",
       "      <td>0.00000</td>\n",
       "      <td>1.000000</td>\n",
       "      <td>1963.00000</td>\n",
       "      <td>0.00000</td>\n",
       "      <td>2.000000</td>\n",
       "      <td>...</td>\n",
       "      <td>0.000000</td>\n",
       "      <td>1000.000000</td>\n",
       "      <td>36.000000</td>\n",
       "      <td>5.310000</td>\n",
       "      <td>30.750000</td>\n",
       "      <td>0.000000</td>\n",
       "      <td>0.000000</td>\n",
       "      <td>0.000000</td>\n",
       "      <td>0.000000</td>\n",
       "      <td>0.000000</td>\n",
       "    </tr>\n",
       "    <tr>\n",
       "      <th>25%</th>\n",
       "      <td>2.000000</td>\n",
       "      <td>4.500000e+04</td>\n",
       "      <td>11.057500</td>\n",
       "      <td>8.683350e+04</td>\n",
       "      <td>14.160000</td>\n",
       "      <td>0.00000</td>\n",
       "      <td>19.000000</td>\n",
       "      <td>1997.00000</td>\n",
       "      <td>0.00000</td>\n",
       "      <td>14.000000</td>\n",
       "      <td>...</td>\n",
       "      <td>0.000000</td>\n",
       "      <td>8000.000000</td>\n",
       "      <td>36.000000</td>\n",
       "      <td>9.430000</td>\n",
       "      <td>256.040000</td>\n",
       "      <td>6679.065000</td>\n",
       "      <td>928.700000</td>\n",
       "      <td>587.100000</td>\n",
       "      <td>221.757500</td>\n",
       "      <td>0.000000</td>\n",
       "    </tr>\n",
       "    <tr>\n",
       "      <th>50%</th>\n",
       "      <td>6.000000</td>\n",
       "      <td>6.500000e+04</td>\n",
       "      <td>17.570000</td>\n",
       "      <td>1.130000e+05</td>\n",
       "      <td>19.720000</td>\n",
       "      <td>0.00000</td>\n",
       "      <td>34.000000</td>\n",
       "      <td>2003.00000</td>\n",
       "      <td>1.00000</td>\n",
       "      <td>21.000000</td>\n",
       "      <td>...</td>\n",
       "      <td>0.000000</td>\n",
       "      <td>14500.000000</td>\n",
       "      <td>36.000000</td>\n",
       "      <td>11.980000</td>\n",
       "      <td>398.420000</td>\n",
       "      <td>12379.495000</td>\n",
       "      <td>1563.300000</td>\n",
       "      <td>984.990000</td>\n",
       "      <td>446.140000</td>\n",
       "      <td>0.000000</td>\n",
       "    </tr>\n",
       "    <tr>\n",
       "      <th>75%</th>\n",
       "      <td>10.000000</td>\n",
       "      <td>9.500000e+04</td>\n",
       "      <td>25.002500</td>\n",
       "      <td>1.515455e+05</td>\n",
       "      <td>25.500000</td>\n",
       "      <td>0.00000</td>\n",
       "      <td>53.000000</td>\n",
       "      <td>2006.00000</td>\n",
       "      <td>3.00000</td>\n",
       "      <td>29.000000</td>\n",
       "      <td>...</td>\n",
       "      <td>0.000000</td>\n",
       "      <td>24000.000000</td>\n",
       "      <td>60.000000</td>\n",
       "      <td>15.050000</td>\n",
       "      <td>644.690000</td>\n",
       "      <td>20690.182500</td>\n",
       "      <td>2616.005000</td>\n",
       "      <td>1694.555000</td>\n",
       "      <td>825.420000</td>\n",
       "      <td>0.000000</td>\n",
       "    </tr>\n",
       "    <tr>\n",
       "      <th>max</th>\n",
       "      <td>10.000000</td>\n",
       "      <td>2.300000e+06</td>\n",
       "      <td>469.090000</td>\n",
       "      <td>1.100000e+06</td>\n",
       "      <td>39.980000</td>\n",
       "      <td>13.00000</td>\n",
       "      <td>118.000000</td>\n",
       "      <td>2015.00000</td>\n",
       "      <td>29.00000</td>\n",
       "      <td>87.000000</td>\n",
       "      <td>...</td>\n",
       "      <td>3.000000</td>\n",
       "      <td>40000.000000</td>\n",
       "      <td>60.000000</td>\n",
       "      <td>30.940000</td>\n",
       "      <td>1566.590000</td>\n",
       "      <td>40000.000000</td>\n",
       "      <td>41630.443684</td>\n",
       "      <td>40000.000000</td>\n",
       "      <td>4216.440000</td>\n",
       "      <td>52.980000</td>\n",
       "    </tr>\n",
       "  </tbody>\n",
       "</table>\n",
       "<p>8 rows × 42 columns</p>\n",
       "</div>"
      ],
      "text/plain": [
       "        emp_length  annual_income  debt_to_income  annual_income_joint  \\\n",
       "count  9183.000000   1.000000e+04     9976.000000         1.495000e+03   \n",
       "mean      5.930306   7.922215e+04       19.308192         1.279146e+05   \n",
       "std       3.703734   6.473429e+04       15.004851         7.016838e+04   \n",
       "min       0.000000   0.000000e+00        0.000000         1.920000e+04   \n",
       "25%       2.000000   4.500000e+04       11.057500         8.683350e+04   \n",
       "50%       6.000000   6.500000e+04       17.570000         1.130000e+05   \n",
       "75%      10.000000   9.500000e+04       25.002500         1.515455e+05   \n",
       "max      10.000000   2.300000e+06      469.090000         1.100000e+06   \n",
       "\n",
       "       debt_to_income_joint    delinq_2y  months_since_last_delinq  \\\n",
       "count           1495.000000  10000.00000               4342.000000   \n",
       "mean              19.979304      0.21600                 36.760709   \n",
       "std                8.054781      0.68366                 21.634939   \n",
       "min                0.320000      0.00000                  1.000000   \n",
       "25%               14.160000      0.00000                 19.000000   \n",
       "50%               19.720000      0.00000                 34.000000   \n",
       "75%               25.500000      0.00000                 53.000000   \n",
       "max               39.980000     13.00000                118.000000   \n",
       "\n",
       "       earliest_credit_line  inquiries_last_12m  total_credit_lines  ...  \\\n",
       "count           10000.00000         10000.00000        10000.000000  ...   \n",
       "mean             2001.29000             1.95820           22.679600  ...   \n",
       "std                 7.79551             2.38013           11.885439  ...   \n",
       "min              1963.00000             0.00000            2.000000  ...   \n",
       "25%              1997.00000             0.00000           14.000000  ...   \n",
       "50%              2003.00000             1.00000           21.000000  ...   \n",
       "75%              2006.00000             3.00000           29.000000  ...   \n",
       "max              2015.00000            29.00000           87.000000  ...   \n",
       "\n",
       "       public_record_bankrupt   loan_amount          term  interest_rate  \\\n",
       "count            10000.000000  10000.000000  10000.000000   10000.000000   \n",
       "mean                 0.123800  16361.922500     43.272000      12.427524   \n",
       "std                  0.337172  10301.956759     11.029877       5.001105   \n",
       "min                  0.000000   1000.000000     36.000000       5.310000   \n",
       "25%                  0.000000   8000.000000     36.000000       9.430000   \n",
       "50%                  0.000000  14500.000000     36.000000      11.980000   \n",
       "75%                  0.000000  24000.000000     60.000000      15.050000   \n",
       "max                  3.000000  40000.000000     60.000000      30.940000   \n",
       "\n",
       "        installment       balance    paid_total  paid_principal  \\\n",
       "count  10000.000000  10000.000000  10000.000000    10000.000000   \n",
       "mean     476.205323  14458.916610   2494.234773     1894.448466   \n",
       "std      294.851627   9964.561865   3958.230365     3884.407175   \n",
       "min       30.750000      0.000000      0.000000        0.000000   \n",
       "25%      256.040000   6679.065000    928.700000      587.100000   \n",
       "50%      398.420000  12379.495000   1563.300000      984.990000   \n",
       "75%      644.690000  20690.182500   2616.005000     1694.555000   \n",
       "max     1566.590000  40000.000000  41630.443684    40000.000000   \n",
       "\n",
       "       paid_interest  paid_late_fees  \n",
       "count   10000.000000    10000.000000  \n",
       "mean      599.666781        0.119516  \n",
       "std       517.328062        1.813468  \n",
       "min         0.000000        0.000000  \n",
       "25%       221.757500        0.000000  \n",
       "50%       446.140000        0.000000  \n",
       "75%       825.420000        0.000000  \n",
       "max      4216.440000       52.980000  \n",
       "\n",
       "[8 rows x 42 columns]"
      ]
     },
     "execution_count": 11,
     "metadata": {},
     "output_type": "execute_result"
    }
   ],
   "source": [
    "df.describe()"
   ]
  },
  {
   "cell_type": "markdown",
   "id": "85a761a5",
   "metadata": {},
   "source": [
    "Data có nhiều giá trị null ở các cột"
   ]
  },
  {
   "cell_type": "code",
   "execution_count": 15,
   "id": "1cbe529c",
   "metadata": {},
   "outputs": [],
   "source": [
    "#Chuyển đổi các giá trị null thành not specified trong cột emp_title\n",
    "df['emp_title'] = df['emp_title'].fillna(\"not specified\")\n",
    "\n",
    "#Chuyển đổi các giá trị null thành not specified trong cột verification_income_joint\n",
    "df['verification_income_joint'] = df['verification_income_joint'].fillna(\"not specified\")\n",
    "\n",
    "#Chuyển đổi các giá trị NA thành mean trong cột months_since_90d_late\n",
    "df['months_since_90d_late'] = df['months_since_90d_late'].fillna(df['months_since_90d_late'].mean())\n",
    "\n",
    "# Chuyển đổi các giá trị NA thành mean trong cột months_since_last_credit_inquiry    \n",
    "df['months_since_last_credit_inquiry'] = df['months_since_last_credit_inquiry'].fillna(df['months_since_last_credit_inquiry'].mean())\n",
    "\n",
    "# Tất cả các khách hàng không có tài khoản nào trễ hạn quá 120 ngày hoặc không xác định nên ta xóa cột này đi. Vì không hữu ích.   \n",
    "#df = df.drop(['num_accounts_120d_past_due'], axis=1)\n",
    "\n",
    "#Chuyển đổi các giá trị null thành not specified trong cột emp_title\n",
    "df['emp_title'] = df['emp_title'].fillna(\"not specified\")\n",
    "\n",
    "#Chuyển đổi các giá trị null thành not specified trong cột verification_income_joint\n",
    "df['verification_income_joint'] = df['verification_income_joint'].fillna(\"not specified\")"
   ]
  },
  {
   "cell_type": "code",
   "execution_count": 17,
   "id": "d36d06a0",
   "metadata": {},
   "outputs": [
    {
     "name": "stderr",
     "output_type": "stream",
     "text": [
      "/var/folders/h_/zh8kq2q970j7jgbpckxd9gj80000gn/T/ipykernel_8653/114435927.py:1: FutureWarning: Dropping of nuisance columns in DataFrame reductions (with 'numeric_only=None') is deprecated; in a future version this will raise TypeError.  Select only valid columns before calling the reduction.\n",
      "  df = df.fillna(df.mean())\n"
     ]
    }
   ],
   "source": [
    "df = df.fillna(df.mean())"
   ]
  },
  {
   "cell_type": "code",
   "execution_count": 18,
   "id": "8ec880b8",
   "metadata": {},
   "outputs": [
    {
     "data": {
      "text/plain": [
       "emp_title                           0\n",
       "emp_length                          0\n",
       "state                               0\n",
       "homeownership                       0\n",
       "annual_income                       0\n",
       "verified_income                     0\n",
       "debt_to_income                      0\n",
       "annual_income_joint                 0\n",
       "verification_income_joint           0\n",
       "debt_to_income_joint                0\n",
       "delinq_2y                           0\n",
       "months_since_last_delinq            0\n",
       "earliest_credit_line                0\n",
       "inquiries_last_12m                  0\n",
       "total_credit_lines                  0\n",
       "open_credit_lines                   0\n",
       "total_credit_limit                  0\n",
       "total_credit_utilized               0\n",
       "num_collections_last_12m            0\n",
       "num_historical_failed_to_pay        0\n",
       "months_since_90d_late               0\n",
       "current_accounts_delinq             0\n",
       "total_collection_amount_ever        0\n",
       "current_installment_accounts        0\n",
       "accounts_opened_24m                 0\n",
       "months_since_last_credit_inquiry    0\n",
       "num_satisfactory_accounts           0\n",
       "num_accounts_30d_past_due           0\n",
       "num_active_debit_accounts           0\n",
       "total_debit_limit                   0\n",
       "num_total_cc_accounts               0\n",
       "num_open_cc_accounts                0\n",
       "num_cc_carrying_balance             0\n",
       "num_mort_accounts                   0\n",
       "account_never_delinq_percent        0\n",
       "tax_liens                           0\n",
       "public_record_bankrupt              0\n",
       "loan_purpose                        0\n",
       "application_type                    0\n",
       "loan_amount                         0\n",
       "term                                0\n",
       "interest_rate                       0\n",
       "installment                         0\n",
       "grade                               0\n",
       "sub_grade                           0\n",
       "issue_month                         0\n",
       "loan_status                         0\n",
       "initial_listing_status              0\n",
       "disbursement_method                 0\n",
       "balance                             0\n",
       "paid_total                          0\n",
       "paid_principal                      0\n",
       "paid_interest                       0\n",
       "paid_late_fees                      0\n",
       "dtype: int64"
      ]
     },
     "execution_count": 18,
     "metadata": {},
     "output_type": "execute_result"
    }
   ],
   "source": [
    "df.isnull().sum()"
   ]
  },
  {
   "cell_type": "markdown",
   "id": "6d2f2e83",
   "metadata": {},
   "source": [
    "# Exploratory Data Analysis (EDA)"
   ]
  },
  {
   "cell_type": "code",
   "execution_count": 19,
   "id": "64799f6e",
   "metadata": {},
   "outputs": [],
   "source": [
    "loans_copy = df.copy()"
   ]
  },
  {
   "cell_type": "code",
   "execution_count": 20,
   "id": "b9fa0dd8",
   "metadata": {},
   "outputs": [
    {
     "data": {
      "text/plain": [
       "emp_length                         -0.028405\n",
       "annual_income                      -0.099584\n",
       "debt_to_income                      0.141393\n",
       "annual_income_joint                -0.068583\n",
       "debt_to_income_joint                0.110519\n",
       "delinq_2y                           0.090456\n",
       "months_since_last_delinq           -0.053720\n",
       "earliest_credit_line                0.103635\n",
       "inquiries_last_12m                  0.131193\n",
       "total_credit_lines                 -0.044435\n",
       "open_credit_lines                  -0.012773\n",
       "total_credit_limit                 -0.130497\n",
       "total_credit_utilized               0.031527\n",
       "num_collections_last_12m            0.029901\n",
       "num_historical_failed_to_pay        0.037563\n",
       "months_since_90d_late              -0.033451\n",
       "current_accounts_delinq             0.007184\n",
       "total_collection_amount_ever        0.013532\n",
       "current_installment_accounts        0.047131\n",
       "accounts_opened_24m                 0.120657\n",
       "months_since_last_credit_inquiry   -0.094503\n",
       "num_satisfactory_accounts          -0.013330\n",
       "num_accounts_30d_past_due           0.007184\n",
       "num_active_debit_accounts           0.026800\n",
       "total_debit_limit                  -0.254225\n",
       "num_total_cc_accounts              -0.071238\n",
       "num_open_cc_accounts               -0.028891\n",
       "num_cc_carrying_balance             0.081741\n",
       "num_mort_accounts                  -0.138351\n",
       "account_never_delinq_percent       -0.124702\n",
       "tax_liens                           0.016547\n",
       "public_record_bankrupt              0.047477\n",
       "loan_amount                         0.064527\n",
       "term                                0.358664\n",
       "interest_rate                       1.000000\n",
       "installment                         0.098811\n",
       "balance                             0.067570\n",
       "paid_total                          0.065339\n",
       "paid_principal                     -0.001953\n",
       "paid_interest                       0.514508\n",
       "paid_late_fees                      0.023110\n",
       "Name: interest_rate, dtype: float64"
      ]
     },
     "execution_count": 20,
     "metadata": {},
     "output_type": "execute_result"
    }
   ],
   "source": [
    "#Check tương quan\n",
    "corr_price = loans_copy[df.columns[:]].corr()['interest_rate'][:]\n",
    "corr_price"
   ]
  },
  {
   "cell_type": "code",
   "execution_count": 21,
   "id": "36526d51",
   "metadata": {},
   "outputs": [],
   "source": [
    "summary_by_state = df.groupby([\"state\"], as_index=False)\\\n",
    "    [\"loan_amount\"]\\\n",
    "    .agg([np.size, np.sum]).reset_index().rename(columns={'size':'no_borrowers','sum':'total_loan_amount'})"
   ]
  },
  {
   "cell_type": "code",
   "execution_count": 22,
   "id": "5fa0c745",
   "metadata": {},
   "outputs": [],
   "source": [
    "summary_by_state.sort_values('no_borrowers', ascending=False, inplace=True, ignore_index=True)"
   ]
  },
  {
   "cell_type": "code",
   "execution_count": 23,
   "id": "aa74b291",
   "metadata": {},
   "outputs": [],
   "source": [
    "summary_by_state['Percentage'] = summary_by_state['no_borrowers']/summary_by_state['no_borrowers'].sum()*100"
   ]
  },
  {
   "cell_type": "code",
   "execution_count": 24,
   "id": "dc4b130f",
   "metadata": {},
   "outputs": [],
   "source": [
    "summary_by_state['Cummulate']  = summary_by_state['Percentage'].cumsum()"
   ]
  },
  {
   "cell_type": "code",
   "execution_count": 26,
   "id": "5a104c1b",
   "metadata": {},
   "outputs": [
    {
     "data": {
      "text/html": [
       "<div>\n",
       "<style scoped>\n",
       "    .dataframe tbody tr th:only-of-type {\n",
       "        vertical-align: middle;\n",
       "    }\n",
       "\n",
       "    .dataframe tbody tr th {\n",
       "        vertical-align: top;\n",
       "    }\n",
       "\n",
       "    .dataframe thead th {\n",
       "        text-align: right;\n",
       "    }\n",
       "</style>\n",
       "<table border=\"1\" class=\"dataframe\">\n",
       "  <thead>\n",
       "    <tr style=\"text-align: right;\">\n",
       "      <th></th>\n",
       "      <th>state</th>\n",
       "      <th>no_borrowers</th>\n",
       "      <th>total_loan_amount</th>\n",
       "      <th>Percentage</th>\n",
       "      <th>Cummulate</th>\n",
       "    </tr>\n",
       "  </thead>\n",
       "  <tbody>\n",
       "    <tr>\n",
       "      <th>0</th>\n",
       "      <td>CA</td>\n",
       "      <td>1330</td>\n",
       "      <td>22073700</td>\n",
       "      <td>13.30</td>\n",
       "      <td>13.30</td>\n",
       "    </tr>\n",
       "    <tr>\n",
       "      <th>1</th>\n",
       "      <td>TX</td>\n",
       "      <td>806</td>\n",
       "      <td>13755275</td>\n",
       "      <td>8.06</td>\n",
       "      <td>21.36</td>\n",
       "    </tr>\n",
       "    <tr>\n",
       "      <th>2</th>\n",
       "      <td>NY</td>\n",
       "      <td>793</td>\n",
       "      <td>12589650</td>\n",
       "      <td>7.93</td>\n",
       "      <td>29.29</td>\n",
       "    </tr>\n",
       "    <tr>\n",
       "      <th>3</th>\n",
       "      <td>FL</td>\n",
       "      <td>732</td>\n",
       "      <td>11203675</td>\n",
       "      <td>7.32</td>\n",
       "      <td>36.61</td>\n",
       "    </tr>\n",
       "    <tr>\n",
       "      <th>4</th>\n",
       "      <td>IL</td>\n",
       "      <td>382</td>\n",
       "      <td>6776600</td>\n",
       "      <td>3.82</td>\n",
       "      <td>40.43</td>\n",
       "    </tr>\n",
       "  </tbody>\n",
       "</table>\n",
       "</div>"
      ],
      "text/plain": [
       "  state  no_borrowers  total_loan_amount  Percentage  Cummulate\n",
       "0    CA          1330           22073700       13.30      13.30\n",
       "1    TX           806           13755275        8.06      21.36\n",
       "2    NY           793           12589650        7.93      29.29\n",
       "3    FL           732           11203675        7.32      36.61\n",
       "4    IL           382            6776600        3.82      40.43"
      ]
     },
     "execution_count": 26,
     "metadata": {},
     "output_type": "execute_result"
    }
   ],
   "source": [
    "summary_by_state.head()"
   ]
  },
  {
   "cell_type": "code",
   "execution_count": 28,
   "id": "a5d125f9",
   "metadata": {},
   "outputs": [],
   "source": [
    "import matplotlib.pyplot as plt\n",
    "import seaborn as sns"
   ]
  },
  {
   "cell_type": "code",
   "execution_count": 29,
   "id": "116982ee",
   "metadata": {},
   "outputs": [
    {
     "data": {
      "image/png": "[encoded data removed]",
      "text/plain": [
       "<Figure size 1800x1080 with 2 Axes>"
      ]
     },
     "metadata": {
      "needs_background": "light"
     },
     "output_type": "display_data"
    }
   ],
   "source": [
    "# Set figure and axis\n",
    "fig, ax1 = plt.subplots(figsize=(25,15))\n",
    "xs = summary_by_state['state']\n",
    "ys = summary_by_state['no_borrowers']\n",
    "yl = summary_by_state['Cummulate']\n",
    "\n",
    "# Plot bars\n",
    "ax1.bar(xs, ys, color = '#3cb371')\n",
    "\"\"\"\n",
    "for x,y in zip(xs,ys):\n",
    "\n",
    "        label = \"{:.2f}\".format(y)\n",
    "\n",
    "        ax1.annotate(label, # this is the text\n",
    "                    (x,y), # these are the coordinates to position the label\n",
    "                    textcoords=\"offset points\", # how to position the text\n",
    "                    xytext=(0,10), # distance from text to points (x,y)\n",
    "                    ha='center') # horizontal alignment can be left, right or center\n",
    "\"\"\"\n",
    "#ax1.set_title(\"The number of borrowers by State\", fontsize = 25, color = 'blue')\n",
    "ax1.set_xlabel(\"State\", fontsize = 15)\n",
    "ax1.set_ylabel(\"The number of borrowers\", fontsize = 15)\n",
    "\n",
    "# Second y axis (i.e. cumulative percentage)\n",
    "ax2 = ax1.twinx()\n",
    "ax2.plot(xs,yl, color=\"#00ffff\", marker=\"o\", ms=10)\n",
    "\n",
    "ax2.axhline(80, color=\"blue\", linestyle=\"--\") # Tạo đường 80%\n",
    "\n",
    "#annotate for line\n",
    "for x,y in zip(xs,yl):\n",
    "    if y > 80:\n",
    "        break\n",
    "    else:\n",
    "        label = \"{:.2f}\".format(y) + '%'\n",
    "\n",
    "        ax2.annotate(label, # this is the text\n",
    "                    (x,y), # these are the coordinates to position the label\n",
    "                    textcoords=\"offset points\", # how to position the text\n",
    "                    xytext=(0,3), # distance from text to points (x,y)\n",
    "                    ha='center') # horizontal alignment can be left, right or center\n",
    "        \n",
    "ax1.yaxis.grid(color='gray', linestyle='dashed')\n",
    "ax1.tick_params(left=False, bottom=False)\n",
    "ax2.tick_params(right=False, bottom=False) \n",
    "\n",
    "ax2.set_ylabel(\"Cumulative Percentage\", fontsize = 15)\n",
    "\n",
    "ax1.spines['top'].set_visible(False)\n",
    "ax2.spines['top'].set_visible(False) \n",
    "\n",
    "plt.suptitle('The number of borrowers by State', fontweight='bold', size=14, horizontalalignment='left', x=0.125, y = 0.925)\n",
    "plt.text(0.7, 0.075, \"Analytics Team\", style='italic',transform=plt.gcf().transFigure)\n",
    "plt.show()"
   ]
  },
  {
   "cell_type": "markdown",
   "id": "e3cb5f88",
   "metadata": {},
   "source": [
    "CA là bang có số lượng người vay nhiều nhất. Các bang TX, NY, FL cũng có số lượng người vay vượt trội hơn so với các bang còn lại.\n",
    "\n",
    "5 bang có lượng người vay cao nhất đã chiếm gần 40% trong tổng số lượng người vay"
   ]
  },
  {
   "cell_type": "code",
   "execution_count": 30,
   "id": "06a3707e",
   "metadata": {},
   "outputs": [
    {
     "data": {
      "text/html": [
       "<div>\n",
       "<style scoped>\n",
       "    .dataframe tbody tr th:only-of-type {\n",
       "        vertical-align: middle;\n",
       "    }\n",
       "\n",
       "    .dataframe tbody tr th {\n",
       "        vertical-align: top;\n",
       "    }\n",
       "\n",
       "    .dataframe thead th {\n",
       "        text-align: right;\n",
       "    }\n",
       "</style>\n",
       "<table border=\"1\" class=\"dataframe\">\n",
       "  <thead>\n",
       "    <tr style=\"text-align: right;\">\n",
       "      <th></th>\n",
       "      <th>state</th>\n",
       "      <th>total_loan_amount</th>\n",
       "      <th>proportion</th>\n",
       "    </tr>\n",
       "  </thead>\n",
       "  <tbody>\n",
       "    <tr>\n",
       "      <th>0</th>\n",
       "      <td>IL</td>\n",
       "      <td>6776.600</td>\n",
       "      <td>4.141689</td>\n",
       "    </tr>\n",
       "    <tr>\n",
       "      <th>1</th>\n",
       "      <td>FL</td>\n",
       "      <td>11203.675</td>\n",
       "      <td>6.847407</td>\n",
       "    </tr>\n",
       "    <tr>\n",
       "      <th>2</th>\n",
       "      <td>NY</td>\n",
       "      <td>12589.650</td>\n",
       "      <td>7.694481</td>\n",
       "    </tr>\n",
       "    <tr>\n",
       "      <th>3</th>\n",
       "      <td>TX</td>\n",
       "      <td>13755.275</td>\n",
       "      <td>8.406882</td>\n",
       "    </tr>\n",
       "    <tr>\n",
       "      <th>4</th>\n",
       "      <td>CA</td>\n",
       "      <td>22073.700</td>\n",
       "      <td>13.490896</td>\n",
       "    </tr>\n",
       "  </tbody>\n",
       "</table>\n",
       "</div>"
      ],
      "text/plain": [
       "  state  total_loan_amount  proportion\n",
       "0    IL           6776.600    4.141689\n",
       "1    FL          11203.675    6.847407\n",
       "2    NY          12589.650    7.694481\n",
       "3    TX          13755.275    8.406882\n",
       "4    CA          22073.700   13.490896"
      ]
     },
     "execution_count": 30,
     "metadata": {},
     "output_type": "execute_result"
    }
   ],
   "source": [
    "summary_by_state['proportion'] = summary_by_state['total_loan_amount']/summary_by_state['total_loan_amount'].sum()*100\n",
    "top5_state = summary_by_state.loc[:, ['state','total_loan_amount','proportion']].head(5).copy()\n",
    "top5_state['total_loan_amount'] = top5_state['total_loan_amount']/1000\n",
    "top5_state.sort_values('total_loan_amount', ascending=True, inplace=True, ignore_index=True)\n",
    "top5_state"
   ]
  },
  {
   "cell_type": "code",
   "execution_count": 31,
   "id": "0f321178",
   "metadata": {},
   "outputs": [
    {
     "data": {
      "image/png": "[encoded data removed]",
      "text/plain": [
       "<Figure size 864x432 with 1 Axes>"
      ]
     },
     "metadata": {
      "needs_background": "light"
     },
     "output_type": "display_data"
    }
   ],
   "source": [
    "# plot\n",
    "fig, ax = plt.subplots(figsize=(12, 6))\n",
    "\n",
    "bar1 = ax.barh('state', 'total_loan_amount', data=top5_state, color='#ffe4b5')\n",
    "\n",
    "# Show dữ liệu \n",
    "    # hoặc có thể dùng lệnh sau nếu không cần show %: ax.bar_label(bar1, size=10) # thêm option fmt='%.1f' nếu muốn format số)\n",
    "i = 0\n",
    "for p in bar1.patches:\n",
    "    t1 = ax.annotate(top5_state.total_loan_amount[i], xy=(p.get_width()+200, p.get_y()+p.get_height()/2)) # số 200 ở đây tùy scale của chart mà ta tinh chỉnh để số liệu tách ra xa khỏi bar cho đẹp\n",
    "    t2 = ax.annotate('('+str(top5_state.proportion.round(2)[i])+'%)', xy=(p.get_width()+200, p.get_y()+0.15))\n",
    "    t1.set(size=12)\n",
    "    t2.set(size=12)\n",
    "    i+=1\n",
    "    \n",
    "# bỏ đường kẻ ở trên và bên phải chart\n",
    "spines = ['top', 'right']\n",
    "for s in spines:\n",
    "    ax.spines[s].set_visible(False) \n",
    "    \n",
    "# bỏ dấu tích ở 2 trục\n",
    "ax.tick_params(left=False, bottom=False) \n",
    "\n",
    "# thêm title, label các trục và source:\n",
    "plt.suptitle('Top 5 states with the highest total loan amount', fontweight='bold', size=14, horizontalalignment='left', x=0.125, y = 1)\n",
    "#plt.title('2nd title', style='italic', size=12, loc='left')\n",
    "plt.xlabel('Total loan amount (thousand)', size=12)\n",
    "plt.ylabel('State', size=12)\n",
    "plt.text(0.7, 0.01, \"Van Minh Trong - Analytics Team\", style='italic',transform=plt.gcf().transFigure)\n",
    "\n",
    "plt.show()"
   ]
  },
  {
   "cell_type": "markdown",
   "id": "6ed9b55a",
   "metadata": {},
   "source": [
    "Đi cũng với số lượng người vay cao nhất, thì 5 bang CA, TX, NY, FL, IL cũng có lượng tiền được cho vay cao nhất"
   ]
  },
  {
   "cell_type": "code",
   "execution_count": 32,
   "id": "37dd0c8f",
   "metadata": {},
   "outputs": [
    {
     "data": {
      "text/html": [
       "<div>\n",
       "<style scoped>\n",
       "    .dataframe tbody tr th:only-of-type {\n",
       "        vertical-align: middle;\n",
       "    }\n",
       "\n",
       "    .dataframe tbody tr th {\n",
       "        vertical-align: top;\n",
       "    }\n",
       "\n",
       "    .dataframe thead th {\n",
       "        text-align: right;\n",
       "    }\n",
       "</style>\n",
       "<table border=\"1\" class=\"dataframe\">\n",
       "  <thead>\n",
       "    <tr style=\"text-align: right;\">\n",
       "      <th></th>\n",
       "      <th>loan_purpose</th>\n",
       "      <th>no_borrowers</th>\n",
       "      <th>total_loan_amount</th>\n",
       "    </tr>\n",
       "  </thead>\n",
       "  <tbody>\n",
       "    <tr>\n",
       "      <th>0</th>\n",
       "      <td>renewable_energy</td>\n",
       "      <td>10</td>\n",
       "      <td>140000</td>\n",
       "    </tr>\n",
       "    <tr>\n",
       "      <th>1</th>\n",
       "      <td>vacation</td>\n",
       "      <td>62</td>\n",
       "      <td>421900</td>\n",
       "    </tr>\n",
       "    <tr>\n",
       "      <th>2</th>\n",
       "      <td>moving</td>\n",
       "      <td>69</td>\n",
       "      <td>682675</td>\n",
       "    </tr>\n",
       "    <tr>\n",
       "      <th>3</th>\n",
       "      <td>small_business</td>\n",
       "      <td>125</td>\n",
       "      <td>2477500</td>\n",
       "    </tr>\n",
       "    <tr>\n",
       "      <th>4</th>\n",
       "      <td>car</td>\n",
       "      <td>131</td>\n",
       "      <td>1361250</td>\n",
       "    </tr>\n",
       "    <tr>\n",
       "      <th>5</th>\n",
       "      <td>house</td>\n",
       "      <td>151</td>\n",
       "      <td>2689275</td>\n",
       "    </tr>\n",
       "    <tr>\n",
       "      <th>6</th>\n",
       "      <td>medical</td>\n",
       "      <td>162</td>\n",
       "      <td>1836800</td>\n",
       "    </tr>\n",
       "    <tr>\n",
       "      <th>7</th>\n",
       "      <td>major_purchase</td>\n",
       "      <td>303</td>\n",
       "      <td>4752425</td>\n",
       "    </tr>\n",
       "    <tr>\n",
       "      <th>8</th>\n",
       "      <td>home_improvement</td>\n",
       "      <td>680</td>\n",
       "      <td>11719225</td>\n",
       "    </tr>\n",
       "    <tr>\n",
       "      <th>9</th>\n",
       "      <td>other</td>\n",
       "      <td>914</td>\n",
       "      <td>11819025</td>\n",
       "    </tr>\n",
       "    <tr>\n",
       "      <th>10</th>\n",
       "      <td>credit_card</td>\n",
       "      <td>2249</td>\n",
       "      <td>34951225</td>\n",
       "    </tr>\n",
       "    <tr>\n",
       "      <th>11</th>\n",
       "      <td>debt_consolidation</td>\n",
       "      <td>5144</td>\n",
       "      <td>90767925</td>\n",
       "    </tr>\n",
       "  </tbody>\n",
       "</table>\n",
       "</div>"
      ],
      "text/plain": [
       "          loan_purpose  no_borrowers  total_loan_amount\n",
       "0     renewable_energy            10             140000\n",
       "1             vacation            62             421900\n",
       "2               moving            69             682675\n",
       "3       small_business           125            2477500\n",
       "4                  car           131            1361250\n",
       "5                house           151            2689275\n",
       "6              medical           162            1836800\n",
       "7       major_purchase           303            4752425\n",
       "8     home_improvement           680           11719225\n",
       "9                other           914           11819025\n",
       "10         credit_card          2249           34951225\n",
       "11  debt_consolidation          5144           90767925"
      ]
     },
     "execution_count": 32,
     "metadata": {},
     "output_type": "execute_result"
    }
   ],
   "source": [
    "summary_by_loan_purpose = df.groupby([\"loan_purpose\"], as_index=False)\\\n",
    "    [\"loan_amount\"]\\\n",
    "    .agg([np.size, np.sum]).reset_index().rename(columns={'size':'no_borrowers','sum':'total_loan_amount'})\n",
    "\n",
    "summary_by_loan_purpose.sort_values('no_borrowers', ascending=True, inplace=True, ignore_index=True)\n",
    "\n",
    "summary_by_loan_purpose"
   ]
  },
  {
   "cell_type": "code",
   "execution_count": 34,
   "id": "78e736f4",
   "metadata": {},
   "outputs": [
    {
     "data": {
      "image/png": "[encoded data removed]",
      "text/plain": [
       "<Figure size 864x432 with 1 Axes>"
      ]
     },
     "metadata": {
      "needs_background": "light"
     },
     "output_type": "display_data"
    }
   ],
   "source": [
    "# plot\n",
    "fig, ax = plt.subplots(figsize=(12, 6))\n",
    "\n",
    "bar1 = ax.barh('loan_purpose', 'no_borrowers', data=summary_by_loan_purpose, color='#87ceeb')\n",
    "\n",
    "# Show dữ liệu \n",
    "    # hoặc có thể dùng lệnh sau nếu không cần show %: ax.bar_label(bar1, size=10) # thêm option fmt='%.1f' nếu muốn format số)\n",
    "i = 0\n",
    "for p in bar1.patches:\n",
    "    t1 = ax.annotate(summary_by_loan_purpose.no_borrowers[i], xy=(p.get_width()+20, p.get_y()+p.get_height()/3)) # số 200 ở đây tùy scale của chart mà ta tinh chỉnh để số liệu tách ra xa khỏi bar cho đẹp\n",
    "    t1.set(size=8)\n",
    "    i+=1\n",
    "    \n",
    "# bỏ đường kẻ ở trên và bên phải chart\n",
    "spines = ['top', 'right']\n",
    "for s in spines:\n",
    "    ax.spines[s].set_visible(False) \n",
    "    \n",
    "# bỏ dấu tích ở 2 trục\n",
    "ax.tick_params(left=False, bottom=False) \n",
    "\n",
    "# thêm title, label các trục và source:\n",
    "plt.suptitle('The number of borrowers by Loan purpose', fontweight='bold', size=14, horizontalalignment='left', x=0.125, y = 1)\n",
    "#plt.title('2nd title', style='italic', size=12, loc='left')\n",
    "plt.xlabel('The number of borrowers', size=12)\n",
    "plt.ylabel('Loan purpose', size=12)\n",
    "plt.text(0.7, 0.01, \"Analytics Team\", style='italic',transform=plt.gcf().transFigure)\n",
    "\n",
    "plt.show()"
   ]
  },
  {
   "cell_type": "markdown",
   "id": "6d61bcdd",
   "metadata": {},
   "source": [
    "Các khoản vay chủ yếu cho hoạt động hợp nhất nợ (debt_consolidation)\n",
    "\n",
    "Tiếp đến là các khoản vay để mua sắm thông qua các thẻ tín dụng và sửa chữa, cải tạo nhà ở"
   ]
  },
  {
   "cell_type": "markdown",
   "id": "0ad71cd3",
   "metadata": {},
   "source": [
    "Với danh mục cho mục đích khoản vay thì ta thấy phần lớn khách hàng thuộc debt consolidation (hợp nhất nợ) nghĩa là trên một lần vay thì họ sẽ vay cho nhiều mục đích khác nhau chứ không nhất thiết với mục đích riêng lẻ như chỉ mua nhà, mua xe, kinh doanh,... và chiếm đến 45,66% gần một nửa so với các mục đích vay khác."
   ]
  },
  {
   "cell_type": "markdown",
   "id": "31aa2eea",
   "metadata": {},
   "source": [
    "# Data Preprocessing"
   ]
  },
  {
   "cell_type": "code",
   "execution_count": 35,
   "id": "f309ed22",
   "metadata": {},
   "outputs": [],
   "source": [
    "data = df.loc[:,['interest_rate','loan_amount','term','grade','sub_grade','annual_income','homeownership','verified_income','debt_to_income']].copy()"
   ]
  },
  {
   "cell_type": "code",
   "execution_count": 36,
   "id": "55db8084",
   "metadata": {},
   "outputs": [],
   "source": [
    "import scipy.stats as stats\n",
    "from sklearn import preprocessing\n",
    "from sklearn.preprocessing import LabelEncoder"
   ]
  },
  {
   "cell_type": "code",
   "execution_count": 37,
   "id": "e547df45",
   "metadata": {},
   "outputs": [],
   "source": [
    "#LabelEncoder cho các trường grade, sub_grade, homeownership, verified_income\n",
    "list_lable = ['grade', 'sub_grade', 'homeownership', 'verified_income']\n",
    "for i in list_lable:\n",
    "    data[i] = LabelEncoder().fit_transform(data[i])"
   ]
  },
  {
   "cell_type": "code",
   "execution_count": 38,
   "id": "1fb5baad",
   "metadata": {},
   "outputs": [
    {
     "data": {
      "text/html": [
       "<div>\n",
       "<style scoped>\n",
       "    .dataframe tbody tr th:only-of-type {\n",
       "        vertical-align: middle;\n",
       "    }\n",
       "\n",
       "    .dataframe tbody tr th {\n",
       "        vertical-align: top;\n",
       "    }\n",
       "\n",
       "    .dataframe thead th {\n",
       "        text-align: right;\n",
       "    }\n",
       "</style>\n",
       "<table border=\"1\" class=\"dataframe\">\n",
       "  <thead>\n",
       "    <tr style=\"text-align: right;\">\n",
       "      <th></th>\n",
       "      <th>interest_rate</th>\n",
       "      <th>loan_amount</th>\n",
       "      <th>term</th>\n",
       "      <th>grade</th>\n",
       "      <th>sub_grade</th>\n",
       "      <th>annual_income</th>\n",
       "      <th>homeownership</th>\n",
       "      <th>verified_income</th>\n",
       "      <th>debt_to_income</th>\n",
       "    </tr>\n",
       "  </thead>\n",
       "  <tbody>\n",
       "    <tr>\n",
       "      <th>0</th>\n",
       "      <td>14.07</td>\n",
       "      <td>28000</td>\n",
       "      <td>60</td>\n",
       "      <td>2</td>\n",
       "      <td>12</td>\n",
       "      <td>90000.0</td>\n",
       "      <td>0</td>\n",
       "      <td>2</td>\n",
       "      <td>18.01</td>\n",
       "    </tr>\n",
       "    <tr>\n",
       "      <th>1</th>\n",
       "      <td>12.61</td>\n",
       "      <td>5000</td>\n",
       "      <td>36</td>\n",
       "      <td>2</td>\n",
       "      <td>10</td>\n",
       "      <td>40000.0</td>\n",
       "      <td>2</td>\n",
       "      <td>0</td>\n",
       "      <td>5.04</td>\n",
       "    </tr>\n",
       "    <tr>\n",
       "      <th>2</th>\n",
       "      <td>17.09</td>\n",
       "      <td>2000</td>\n",
       "      <td>36</td>\n",
       "      <td>3</td>\n",
       "      <td>15</td>\n",
       "      <td>40000.0</td>\n",
       "      <td>2</td>\n",
       "      <td>1</td>\n",
       "      <td>21.15</td>\n",
       "    </tr>\n",
       "    <tr>\n",
       "      <th>3</th>\n",
       "      <td>6.72</td>\n",
       "      <td>21600</td>\n",
       "      <td>36</td>\n",
       "      <td>0</td>\n",
       "      <td>2</td>\n",
       "      <td>30000.0</td>\n",
       "      <td>2</td>\n",
       "      <td>0</td>\n",
       "      <td>10.16</td>\n",
       "    </tr>\n",
       "    <tr>\n",
       "      <th>4</th>\n",
       "      <td>14.07</td>\n",
       "      <td>23000</td>\n",
       "      <td>36</td>\n",
       "      <td>2</td>\n",
       "      <td>12</td>\n",
       "      <td>35000.0</td>\n",
       "      <td>2</td>\n",
       "      <td>2</td>\n",
       "      <td>57.96</td>\n",
       "    </tr>\n",
       "  </tbody>\n",
       "</table>\n",
       "</div>"
      ],
      "text/plain": [
       "   interest_rate  loan_amount  term  grade  sub_grade  annual_income  \\\n",
       "0          14.07        28000    60      2         12        90000.0   \n",
       "1          12.61         5000    36      2         10        40000.0   \n",
       "2          17.09         2000    36      3         15        40000.0   \n",
       "3           6.72        21600    36      0          2        30000.0   \n",
       "4          14.07        23000    36      2         12        35000.0   \n",
       "\n",
       "   homeownership  verified_income  debt_to_income  \n",
       "0              0                2           18.01  \n",
       "1              2                0            5.04  \n",
       "2              2                1           21.15  \n",
       "3              2                0           10.16  \n",
       "4              2                2           57.96  "
      ]
     },
     "execution_count": 38,
     "metadata": {},
     "output_type": "execute_result"
    }
   ],
   "source": [
    "data.head()"
   ]
  },
  {
   "cell_type": "code",
   "execution_count": 39,
   "id": "391f894b",
   "metadata": {},
   "outputs": [
    {
     "data": {
      "image/png": "[encoded data removed]",
      "text/plain": [
       "<Figure size 720x720 with 2 Axes>"
      ]
     },
     "metadata": {
      "needs_background": "light"
     },
     "output_type": "display_data"
    }
   ],
   "source": [
    "top = 10\n",
    "corr = data.corr()\n",
    "top15 = corr.nlargest(top, 'interest_rate')['interest_rate'].index\n",
    "corr_top15 = data[top15].corr()\n",
    "\n",
    "fig,ax = plt.subplots(figsize=(10,10))\n",
    "sns.heatmap(corr_top15, square=True, ax=ax, annot=True, cmap='coolwarm', fmt='.2f', annot_kws={'size':12})\n",
    "plt.title('Top correlated features of dataset', size=16)\n",
    "plt.show()"
   ]
  },
  {
   "cell_type": "markdown",
   "id": "09410afc",
   "metadata": {},
   "source": [
    "Có 2 biến grade và sub_grade có hệ số tương quan đối với biến interest_rate là lớn so với các biến còn lại"
   ]
  },
  {
   "cell_type": "code",
   "execution_count": 40,
   "id": "0dc4922f",
   "metadata": {},
   "outputs": [
    {
     "data": {
      "image/png": "[encoded data removed]",
      "text/plain": [
       "<Figure size 720x360 with 1 Axes>"
      ]
     },
     "metadata": {
      "needs_background": "light"
     },
     "output_type": "display_data"
    }
   ],
   "source": [
    "#corr check\n",
    "fig, ax = plt.subplots(figsize=(10, 5))\n",
    "\n",
    "ax = sns.regplot(x=data['grade'], y=data['interest_rate'], data=data)\n",
    "\n",
    "ax.set_xticks((0,1,2,3,4,5,6))\n",
    "ax.set_xticklabels(('A', 'B', 'C', 'D', 'E', 'F','G'))\n",
    "\n",
    "# bỏ đường kẻ ở trên và bên phải chart\n",
    "spines = ['top', 'right']\n",
    "for s in spines:\n",
    "    ax.spines[s].set_visible(False) \n",
    "    \n",
    "# bỏ dấu tích ở 2 trục\n",
    "ax.tick_params(left=False, bottom=False)\n",
    "plt.suptitle('The relationship between interest_rate and grade', fontweight='bold', size=12, horizontalalignment='left', x=0.125, y = 1)\n",
    "plt.show()"
   ]
  },
  {
   "cell_type": "code",
   "execution_count": 41,
   "id": "802f40b8",
   "metadata": {},
   "outputs": [
    {
     "name": "stdout",
     "output_type": "stream",
     "text": [
      "Correlation Coefficient giữa grade và interest_rate là 0.9694016378508195 và giá trị P-value là  0.0\n"
     ]
    }
   ],
   "source": [
    "pearson_coef, p_value = stats.pearsonr(data['grade'], data['interest_rate'])\n",
    "print(\"Correlation Coefficient giữa grade và interest_rate là\", pearson_coef, \"và giá trị P-value là \", p_value)"
   ]
  },
  {
   "cell_type": "code",
   "execution_count": 42,
   "id": "a688f1c5",
   "metadata": {},
   "outputs": [
    {
     "data": {
      "image/png": "[encoded data removed]",
      "text/plain": [
       "<Figure size 720x360 with 1 Axes>"
      ]
     },
     "metadata": {
      "needs_background": "light"
     },
     "output_type": "display_data"
    }
   ],
   "source": [
    "fig, ax = plt.subplots(figsize=(10, 5))\n",
    "\n",
    "ax = sns.regplot(x=data['sub_grade'], y=data['interest_rate'], data=data)\n",
    "\n",
    "# bỏ đường kẻ ở trên và bên phải chart\n",
    "spines = ['top', 'right']\n",
    "for s in spines:\n",
    "    ax.spines[s].set_visible(False) \n",
    "    \n",
    "# bỏ dấu tích ở 2 trục\n",
    "ax.tick_params(left=False, bottom=False)\n",
    "plt.suptitle('The relationship between interest_rate and sub_grade', fontweight='bold', size=12, horizontalalignment='left', x=0.125, y = 1)\n",
    "plt.show()"
   ]
  },
  {
   "cell_type": "code",
   "execution_count": 43,
   "id": "a2737df4",
   "metadata": {},
   "outputs": [
    {
     "name": "stdout",
     "output_type": "stream",
     "text": [
      "Correlation Coefficient giữa sub_grade và interest_rate là 0.9929205599072609 và giá trị P-value là  0.0\n"
     ]
    }
   ],
   "source": [
    "pearson_coef, p_value = stats.pearsonr(data['sub_grade'], data['interest_rate'])\n",
    "print(\"Correlation Coefficient giữa sub_grade và interest_rate là\", pearson_coef, \"và giá trị P-value là \", p_value)"
   ]
  },
  {
   "cell_type": "markdown",
   "id": "31133b7c",
   "metadata": {},
   "source": [
    "# Linear Regression"
   ]
  },
  {
   "cell_type": "code",
   "execution_count": 44,
   "id": "a7f9d366",
   "metadata": {},
   "outputs": [],
   "source": [
    "from sklearn.linear_model import LinearRegression\n",
    "from sklearn.model_selection import train_test_split"
   ]
  },
  {
   "cell_type": "code",
   "execution_count": 45,
   "id": "4f4b354a",
   "metadata": {},
   "outputs": [],
   "source": [
    "X = data[['grade','sub_grade']]\n",
    "y = data['interest_rate']"
   ]
  },
  {
   "cell_type": "code",
   "execution_count": 46,
   "id": "0daf23de",
   "metadata": {},
   "outputs": [],
   "source": [
    "X_train, X_test, y_train, y_test = train_test_split(X, y, test_size=0.2, random_state=0)"
   ]
  },
  {
   "cell_type": "code",
   "execution_count": 47,
   "id": "b2eb2a69",
   "metadata": {},
   "outputs": [
    {
     "data": {
      "text/plain": [
       "LinearRegression()"
      ]
     },
     "execution_count": 47,
     "metadata": {},
     "output_type": "execute_result"
    }
   ],
   "source": [
    "lin_reg = LinearRegression()\n",
    "lin_reg.fit(X_train, y_train)"
   ]
  },
  {
   "cell_type": "code",
   "execution_count": 48,
   "id": "8b6313ac",
   "metadata": {},
   "outputs": [],
   "source": [
    "y_pred = lin_reg.predict(X_test)"
   ]
  },
  {
   "cell_type": "code",
   "execution_count": 49,
   "id": "c761dd2a",
   "metadata": {},
   "outputs": [
    {
     "data": {
      "text/plain": [
       "array([20.63241294, 11.34694449,  7.08657024, ...,  9.05278471,\n",
       "        6.32185031, 13.31315897])"
      ]
     },
     "execution_count": 49,
     "metadata": {},
     "output_type": "execute_result"
    }
   ],
   "source": [
    "y_pred"
   ]
  },
  {
   "cell_type": "code",
   "execution_count": 50,
   "id": "2097f279",
   "metadata": {},
   "outputs": [
    {
     "name": "stdout",
     "output_type": "stream",
     "text": [
      "4.792410451963088\n"
     ]
    }
   ],
   "source": [
    "intercept = lin_reg.intercept_\n",
    "\n",
    "print(intercept)"
   ]
  },
  {
   "cell_type": "code",
   "execution_count": 51,
   "id": "695ae003",
   "metadata": {},
   "outputs": [
    {
     "name": "stdout",
     "output_type": "stream",
     "text": [
      "[0.43677462 0.76471993]\n"
     ]
    }
   ],
   "source": [
    "slopes = lin_reg.coef_\n",
    "\n",
    "print(slopes)"
   ]
  },
  {
   "cell_type": "markdown",
   "id": "d44934e2",
   "metadata": {},
   "source": [
    "# Mô hình dự đoán:\n",
    "\n",
    "interest_rate = 4.7924 + 0.4368 grade + 0.7647 sub_grade"
   ]
  },
  {
   "cell_type": "code",
   "execution_count": 52,
   "id": "b69e1b0f",
   "metadata": {},
   "outputs": [
    {
     "name": "stdout",
     "output_type": "stream",
     "text": [
      "The full R-square is : 98.65013%\n",
      "The train R-square is : 98.60605%\n",
      "The test R-square is : 98.82589%\n"
     ]
    }
   ],
   "source": [
    "print('The full R-square is : ' +str((lin_reg.score(X,y)*100).round(5)) + '%')\n",
    "print('The train R-square is : ' +str((lin_reg.score(X_train, y_train)*100).round(5)) + '%')\n",
    "print('The test R-square is : ' +str((lin_reg.score(X_test, y_test)*100).round(5)) + '%')"
   ]
  },
  {
   "cell_type": "markdown",
   "id": "8578fa15",
   "metadata": {},
   "source": [
    "Hơn 98% interest_rate có thể giải thích được bằng mô hình trên"
   ]
  },
  {
   "cell_type": "code",
   "execution_count": 53,
   "id": "8de80e39",
   "metadata": {},
   "outputs": [
    {
     "name": "stdout",
     "output_type": "stream",
     "text": [
      "The MSE of interest_rate and predicted value is :  0.294\n",
      "The MAE of interest_rate and predicted value is :  0.426\n"
     ]
    }
   ],
   "source": [
    "#Find MSE , MAE\n",
    "from sklearn.metrics import mean_squared_error, mean_absolute_error\n",
    "mse = mean_squared_error(y_test,y_pred)\n",
    "mae = mean_absolute_error(y_test,y_pred)\n",
    "print('The MSE of interest_rate and predicted value is : ',mse.round(3))\n",
    "print('The MAE of interest_rate and predicted value is : ',mae.round(3))"
   ]
  },
  {
   "cell_type": "markdown",
   "id": "b669af77",
   "metadata": {},
   "source": [
    "# Polynomial Regression"
   ]
  },
  {
   "cell_type": "code",
   "execution_count": 54,
   "id": "9bdd596a",
   "metadata": {},
   "outputs": [],
   "source": [
    "from sklearn.preprocessing import PolynomialFeatures\n",
    "from sklearn.metrics import mean_squared_error, r2_score"
   ]
  },
  {
   "cell_type": "code",
   "execution_count": 55,
   "id": "51fea1bc",
   "metadata": {},
   "outputs": [],
   "source": [
    "dataset = data.loc[:,['interest_rate','sub_grade']]"
   ]
  },
  {
   "cell_type": "code",
   "execution_count": 56,
   "id": "a7d24fbc",
   "metadata": {},
   "outputs": [
    {
     "data": {
      "text/html": [
       "<div>\n",
       "<style scoped>\n",
       "    .dataframe tbody tr th:only-of-type {\n",
       "        vertical-align: middle;\n",
       "    }\n",
       "\n",
       "    .dataframe tbody tr th {\n",
       "        vertical-align: top;\n",
       "    }\n",
       "\n",
       "    .dataframe thead th {\n",
       "        text-align: right;\n",
       "    }\n",
       "</style>\n",
       "<table border=\"1\" class=\"dataframe\">\n",
       "  <thead>\n",
       "    <tr style=\"text-align: right;\">\n",
       "      <th></th>\n",
       "      <th>interest_rate</th>\n",
       "      <th>sub_grade</th>\n",
       "    </tr>\n",
       "  </thead>\n",
       "  <tbody>\n",
       "    <tr>\n",
       "      <th>0</th>\n",
       "      <td>14.07</td>\n",
       "      <td>12</td>\n",
       "    </tr>\n",
       "    <tr>\n",
       "      <th>1</th>\n",
       "      <td>12.61</td>\n",
       "      <td>10</td>\n",
       "    </tr>\n",
       "    <tr>\n",
       "      <th>2</th>\n",
       "      <td>17.09</td>\n",
       "      <td>15</td>\n",
       "    </tr>\n",
       "    <tr>\n",
       "      <th>3</th>\n",
       "      <td>6.72</td>\n",
       "      <td>2</td>\n",
       "    </tr>\n",
       "    <tr>\n",
       "      <th>4</th>\n",
       "      <td>14.07</td>\n",
       "      <td>12</td>\n",
       "    </tr>\n",
       "  </tbody>\n",
       "</table>\n",
       "</div>"
      ],
      "text/plain": [
       "   interest_rate  sub_grade\n",
       "0          14.07         12\n",
       "1          12.61         10\n",
       "2          17.09         15\n",
       "3           6.72          2\n",
       "4          14.07         12"
      ]
     },
     "execution_count": 56,
     "metadata": {},
     "output_type": "execute_result"
    }
   ],
   "source": [
    "dataset.head()"
   ]
  },
  {
   "cell_type": "code",
   "execution_count": 57,
   "id": "fb63e88b",
   "metadata": {},
   "outputs": [],
   "source": [
    "X = np.array(dataset['sub_grade']).reshape(-1,1)\n",
    "y = np.array(dataset['interest_rate']).reshape(-1,1)"
   ]
  },
  {
   "cell_type": "code",
   "execution_count": 58,
   "id": "a2716cf0",
   "metadata": {},
   "outputs": [],
   "source": [
    "from sklearn.model_selection import train_test_split \n",
    "X_train, X_test, y_train, y_test = train_test_split(X, y, test_size=0.2, random_state=0)"
   ]
  },
  {
   "cell_type": "code",
   "execution_count": 59,
   "id": "9260e694",
   "metadata": {},
   "outputs": [
    {
     "data": {
      "text/plain": [
       "LinearRegression()"
      ]
     },
     "execution_count": 59,
     "metadata": {},
     "output_type": "execute_result"
    }
   ],
   "source": [
    "# Fitting Polynomial Regression to the dataset\n",
    "from sklearn.preprocessing import PolynomialFeatures\n",
    "poly_reg = PolynomialFeatures(degree=4)\n",
    "X_poly = poly_reg.fit_transform(X_train)\n",
    "pol_reg = LinearRegression()\n",
    "pol_reg.fit(X_poly, y_train)"
   ]
  },
  {
   "cell_type": "code",
   "execution_count": 60,
   "id": "8630ca02",
   "metadata": {},
   "outputs": [
    {
     "data": {
      "image/png": "[encoded data removed]",
      "text/plain": [
       "<Figure size 720x360 with 1 Axes>"
      ]
     },
     "metadata": {
      "needs_background": "light"
     },
     "output_type": "display_data"
    }
   ],
   "source": [
    "# Visualizing the Polymonial Regression results\n",
    "fig, ax = plt.subplots(figsize=(10, 5))\n",
    "ax.scatter(X_test, y_test, color='red', label='Test')\n",
    "ax.scatter(X_test, pol_reg.predict(poly_reg.fit_transform(X_test)), color='blue', label='Predict')\n",
    "plt.xlabel('sub_grade')\n",
    "plt.ylabel('interest_rate')\n",
    "\n",
    "# bỏ đường kẻ ở trên và bên phải chart\n",
    "spines = ['top', 'right']\n",
    "for s in spines:\n",
    "    ax.spines[s].set_visible(False) \n",
    "    \n",
    "# bỏ dấu tích ở 2 trục\n",
    "ax.tick_params(left=False, bottom=False)\n",
    "\n",
    "ax.legend()\n",
    "plt.suptitle('Polynomial Regression', fontweight='bold', size=12, horizontalalignment='left', x=0.125, y = 1)\n",
    "plt.show()"
   ]
  },
  {
   "cell_type": "code",
   "execution_count": 61,
   "id": "ab454698",
   "metadata": {},
   "outputs": [
    {
     "name": "stdout",
     "output_type": "stream",
     "text": [
      "The full R-square is : 99.66587%\n",
      "The train R-square is : 99.63015%\n",
      "The test R-square is : 99.80847%\n"
     ]
    }
   ],
   "source": [
    "print('The full R-square is : ' +str((r2_score(y, pol_reg.predict(poly_reg.fit_transform(X)))*100).round(5)) + '%')\n",
    "print('The train R-square is : ' +str((r2_score(y_train, pol_reg.predict(poly_reg.fit_transform(X_train)))*100).round(5)) + '%')\n",
    "print('The test R-square is : ' +str((r2_score(y_test, pol_reg.predict(poly_reg.fit_transform(X_test)))*100).round(5)) + '%')"
   ]
  },
  {
   "cell_type": "markdown",
   "id": "8031b247",
   "metadata": {},
   "source": [
    "Mô hình Polynomial Regression có thể giải thích được hơn 99% về interest rate"
   ]
  },
  {
   "cell_type": "code",
   "execution_count": 63,
   "id": "92105958",
   "metadata": {},
   "outputs": [
    {
     "name": "stdout",
     "output_type": "stream",
     "text": [
      "The MSE of interest_rate and predicted value is :  0.04797\n",
      "The MAE of interest_rate and predicted value is :  0.17857\n"
     ]
    }
   ],
   "source": [
    "#Find MSE , MAE\n",
    "from sklearn.metrics import mean_squared_error, mean_absolute_error\n",
    "mse = mean_squared_error(y_test, pol_reg.predict(poly_reg.fit_transform(X_test)))\n",
    "mae = mean_absolute_error(y_test, pol_reg.predict(poly_reg.fit_transform(X_test)))\n",
    "print('The MSE of interest_rate and predicted value is : ',mse.round(5))\n",
    "print('The MAE of interest_rate and predicted value is : ',mae.round(5))"
   ]
  },
  {
   "cell_type": "code",
   "execution_count": null,
   "id": "2c353e24",
   "metadata": {},
   "outputs": [],
   "source": []
  },
  {
   "cell_type": "code",
   "execution_count": null,
   "id": "beb61237",
   "metadata": {},
   "outputs": [],
   "source": []
  }
 ],
 "metadata": {
  "kernelspec": {
   "display_name": "Python 3 (ipykernel)",
   "language": "python",
   "name": "python3"
  },
  "language_info": {
   "codemirror_mode": {
    "name": "ipython",
    "version": 3
   },
   "file_extension": ".py",
   "mimetype": "text/x-python",
   "name": "python",
   "nbconvert_exporter": "python",
   "pygments_lexer": "ipython3",
   "version": "3.9.7"
  }
 },
 "nbformat": 4,
 "nbformat_minor": 5
}
